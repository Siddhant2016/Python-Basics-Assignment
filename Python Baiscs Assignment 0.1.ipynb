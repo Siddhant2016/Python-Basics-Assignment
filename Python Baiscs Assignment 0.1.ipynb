{
 "cells": [
  {
   "cell_type": "markdown",
   "id": "67bb7db0-630f-4c81-b520-a3966f6c7675",
   "metadata": {},
   "source": [
    "Q1. Explain the key features of Python that make it a popular choice for programming.\n",
    "\n",
    "   - There are many key features of python that make it popular, as shown below\n",
    "\n",
    "     1. Simple and Readable Syntax\n",
    "\n",
    "     2. Interpreted Language\n",
    "\n",
    "     3. Dynamically Typed\n",
    "\n",
    "     4. Extensive Standard Library\n",
    "\n",
    "     5. Large Ecosystem of Libraries and Frameworks\n",
    "\n",
    "     6. Cross-platform Compatibility\n",
    "\n",
    "     7. Community Support\n",
    "\n",
    "     8. Object-Oriented and Functional Programming Support\n",
    "\n",
    "     9. suitable for Rapid Prototyping\n",
    "\n",
    "     10. Integration Capabilities"
   ]
  },
  {
   "cell_type": "markdown",
   "id": "41b14645-063c-4bc9-9510-c4a8b450ce89",
   "metadata": {},
   "source": [
    "Q2. Describe the role of predefined keywords in Python and provide examples of how they are used in a program.\n",
    "\n",
    "   -Predefined keywords (also known as reserved words) in Python are words that are built into the language and have special meaning.\n",
    "    we cannot use them as variable names, function names, or identifiers because Python uses them to define its syntax and structure.\n",
    "\n",
    "   -Examples of Python Keywords in Use\n"
   ]
  },
  {
   "cell_type": "code",
   "execution_count": 1,
   "id": "f7ac2953-2b46-4797-9eb2-99be2ffab4a3",
   "metadata": {},
   "outputs": [
    {
     "name": "stdout",
     "output_type": "stream",
     "text": [
      "you pass this exam\n"
     ]
    }
   ],
   "source": [
    "# 1. if, else, elif – Used for decision-making\n",
    "    \n",
    "marks = 63\n",
    "if marks>33:\n",
    "    print(\"you pass this exam\")\n",
    "else:\n",
    "    print(\"you fail this exam\")\n",
    "    "
   ]
  },
  {
   "cell_type": "code",
   "execution_count": 4,
   "id": "eabc89c8-c8e6-4094-9073-069c383465f2",
   "metadata": {},
   "outputs": [
    {
     "name": "stdout",
     "output_type": "stream",
     "text": [
      "p w s k i l l s "
     ]
    }
   ],
   "source": [
    "# 2. for, in, range – Used for looping\n",
    "\n",
    "a = \"pwskills\"\n",
    "for i in a:\n",
    "    print(i, end=\" \")"
   ]
  },
  {
   "cell_type": "code",
   "execution_count": 10,
   "id": "e2cf0466-bfd2-4799-a6f6-995d447f5eb1",
   "metadata": {},
   "outputs": [
    {
     "name": "stdin",
     "output_type": "stream",
     "text": [
      "PLEASE ENTER YOUR GENDER :  boy\n"
     ]
    },
    {
     "name": "stdout",
     "output_type": "stream",
     "text": [
      "i m a strong boy\n"
     ]
    }
   ],
   "source": [
    "# 3. True, False, None – Special constant values\n",
    "\n",
    "boy = True\n",
    "girl = False\n",
    "trans = None\n",
    "gender = input(\"PLEASE ENTER YOUR GENDER : \")\n",
    "if boy:\n",
    "    print(\"i m a strong boy\")\n",
    "else:\n",
    "    if girl:\n",
    "        print(\"i ma baby girl\")\n",
    "    else:\n",
    "        print(\"i m a trans\")\n",
    "   "
   ]
  },
  {
   "cell_type": "markdown",
   "id": "c521290c-7986-4f1a-b32b-5ca5371af586",
   "metadata": {},
   "source": [
    "Q3. Compare and contrast mutable and immutable objects in Python with examples.\n",
    "\n",
    "   -mutable objects--->are those variables or objects which can be change anytime after they created in the code.\n",
    "    EXAMPLE:\n",
    "      1.list\n",
    "\n",
    "      2.dict\n",
    "\n",
    "      3.set\n",
    "\n",
    "      4.bytearray\n",
    "\n",
    "   -immutable onjects--->are those keywords or abjects which Cannot be changed after creation and we do any change in it i will becomes a new object.\n",
    "    EXAMPLE:\n",
    "      Examples:\n",
    "         1. int\n",
    "\n",
    "         2. float\n",
    "\n",
    "         3. str\n",
    "\n",
    "             Feature\t         Mutable Objects\t           Immutable Objects\n",
    "\n",
    "        1. Can be changed?\t         Yes\t                         No\n",
    "\n",
    "        2. Memory address?\t    Same after change\t            New one after change\n",
    "\n",
    "        3.Examples\t            list, dict, set\t                int, str, tuple\n",
    "\n",
    "        4.Performance\t        Slightly slower \t            Faster for fixed values\n",
    "\n",
    "        5.Use Cases\t         Collections that need to update\tFixed data like keys in dicts\n"
   ]
  },
  {
   "cell_type": "code",
   "execution_count": 22,
   "id": "828a6c0d-8334-4929-beb5-7f7fe7874945",
   "metadata": {},
   "outputs": [
    {
     "name": "stdout",
     "output_type": "stream",
     "text": [
      "2551189524608\n"
     ]
    }
   ],
   "source": [
    "# mutable objects:\n",
    "list_cont = [\"prince\", \"shubham\", \"golu\", \"garima\"]\n",
    "list_cont\n",
    "print(id(list_cont))"
   ]
  },
  {
   "cell_type": "code",
   "execution_count": 23,
   "id": "3b82e3a3-6d06-443b-b367-1ae54eea3e41",
   "metadata": {},
   "outputs": [
    {
     "name": "stdout",
     "output_type": "stream",
     "text": [
      "2551189524608\n"
     ]
    }
   ],
   "source": [
    "\n",
    "list_cont.append(4)\n",
    "list_cont\n",
    "print(id(list_cont)) #hence both have same adderess so it is mutable object"
   ]
  },
  {
   "cell_type": "code",
   "execution_count": 38,
   "id": "380b2d41-302e-4082-a895-49747073e6dc",
   "metadata": {},
   "outputs": [
    {
     "name": "stdout",
     "output_type": "stream",
     "text": [
      "2551183730544\n"
     ]
    }
   ],
   "source": [
    "#immutable objects\n",
    "name = \"siddhant\"\n",
    "print(id(name))"
   ]
  },
  {
   "cell_type": "code",
   "execution_count": 39,
   "id": "4fc4261c-779c-41f2-b244-988f01278f75",
   "metadata": {},
   "outputs": [
    {
     "name": "stdout",
     "output_type": "stream",
     "text": [
      "siddhantsingh\n"
     ]
    }
   ],
   "source": [
    "name = name + \"singh\"\n",
    "print(name)"
   ]
  },
  {
   "cell_type": "code",
   "execution_count": 40,
   "id": "87d05a04-239e-4ec2-999d-f6acca4fb25f",
   "metadata": {},
   "outputs": [
    {
     "name": "stdout",
     "output_type": "stream",
     "text": [
      "2551190157424\n"
     ]
    }
   ],
   "source": [
    "print(id(name)) #it gives different memory address--->hence new object is created"
   ]
  },
  {
   "cell_type": "markdown",
   "id": "a0f5feab-678d-4ed4-ba69-582ccaa54027",
   "metadata": {},
   "source": [
    "Q4. Discuss the different types of operators in Python and provide examples of how they are used.\n",
    "\n",
    "   -There are many type of operators in python\n",
    "\n",
    "    1. Arithmetic Operators\n",
    "       Definition: Used to perform basic mathematical operations like addition, subtraction, multiplication, etc.\n",
    "\n",
    "    2. Assignment Operators\n",
    "       Definition: Used to assign values to variables.\n",
    "\n",
    "    3. Comparison (Relational) Operators\n",
    "       Definition: Used to compare two values; returns a Boolean (True or False).\n",
    "\n",
    "    4. Logical Operators\n",
    "       Definition: Used to combine multiple conditions (Boolean expressions).\n",
    "\n",
    "    5. Bitwise Operators\n",
    "       Definition: Perform operations at the binary level (bit-by-bit).\n"
   ]
  },
  {
   "cell_type": "code",
   "execution_count": 41,
   "id": "b3d44b83-0921-44b2-81f8-93e66943b734",
   "metadata": {},
   "outputs": [
    {
     "name": "stdout",
     "output_type": "stream",
     "text": [
      "Addition: 13\n",
      "Subtraction: 7\n",
      "Multiplication: 30\n",
      "Division: 3.3333333333333335\n",
      "Floor Division: 3\n",
      "Modulus: 1\n",
      "Exponentiation: 1000\n"
     ]
    }
   ],
   "source": [
    "#Example for arithmetic operators\n",
    "\n",
    "a = 10\n",
    "b = 3\n",
    "\n",
    "print(\"Addition:\", a + b)          \n",
    "print(\"Subtraction:\", a - b)       \n",
    "print(\"Multiplication:\", a * b)    \n",
    "print(\"Division:\", a / b)          \n",
    "print(\"Floor Division:\", a // b)   \n",
    "print(\"Modulus:\", a % b)           \n",
    "print(\"Exponentiation:\", a ** b) "
   ]
  },
  {
   "cell_type": "code",
   "execution_count": 44,
   "id": "f8adadec-99ef-411d-aa6b-287bf8e93da7",
   "metadata": {},
   "outputs": [
    {
     "name": "stdout",
     "output_type": "stream",
     "text": [
      "x after += 3: 8\n",
      "x after -= 2: 6\n",
      "x after *= 4: 24\n",
      "x after /= 6: 4.0\n"
     ]
    }
   ],
   "source": [
    "#Example for assingnment operator\n",
    "\n",
    "x = 5\n",
    "\n",
    "x += 3  \n",
    "print(\"x after += 3:\", x)     \n",
    "\n",
    "x -= 2  \n",
    "print(\"x after -= 2:\", x)    \n",
    "\n",
    "x *= 4   # x = x * 4\n",
    "print(\"x after *= 4:\", x)     \n",
    "\n",
    "x /= 6   # x = x / 6\n",
    "print(\"x after /= 6:\", x)    "
   ]
  },
  {
   "cell_type": "code",
   "execution_count": 45,
   "id": "4229929a-d881-44b4-aa0e-8fea9830a5ed",
   "metadata": {},
   "outputs": [
    {
     "name": "stdout",
     "output_type": "stream",
     "text": [
      "a == b: False\n",
      "a != b: True\n",
      "a > b: False\n",
      "a < b: True\n",
      "a >= 5: True\n",
      "b <= 9: False\n"
     ]
    }
   ],
   "source": [
    "#Example for Comparison (Relational) Operators\n",
    "\n",
    "a = 5\n",
    "b = 10\n",
    "\n",
    "print(\"a == b:\", a == b)     \n",
    "print(\"a != b:\", a != b)     \n",
    "print(\"a > b:\", a > b)       \n",
    "print(\"a < b:\", a < b)      \n",
    "print(\"a >= 5:\", a >= 5)    \n",
    "print(\"b <= 9:\", b <= 9)    "
   ]
  },
  {
   "cell_type": "code",
   "execution_count": 46,
   "id": "159dd45a-c40e-4d32-b607-ce38f43299d7",
   "metadata": {},
   "outputs": [
    {
     "name": "stdout",
     "output_type": "stream",
     "text": [
      "x > 5 and x < 10: True\n",
      "x < 5 or x > 10: False\n",
      "not(x == 7): False\n"
     ]
    }
   ],
   "source": [
    "#Example for Logical Operators\n",
    "\n",
    "x = 7\n",
    "\n",
    "print(\"x > 5 and x < 10:\", x > 5 and x < 10) \n",
    "print(\"x < 5 or x > 10:\", x < 5 or x > 10)    \n",
    "print(\"not(x == 7):\", not(x == 7))            "
   ]
  },
  {
   "cell_type": "code",
   "execution_count": 48,
   "id": "4567d1f3-fc20-4551-9349-56432cf0e490",
   "metadata": {},
   "outputs": [
    {
     "name": "stdout",
     "output_type": "stream",
     "text": [
      "a & b: 1\n",
      "a | b: 7\n",
      "a << 1: 10\n",
      "a >> 1: 2\n"
     ]
    }
   ],
   "source": [
    "#Example for Bitwise Operators\n",
    "\n",
    "a = 5       \n",
    "b = 3      \n",
    "\n",
    "print(\"a & b:\", a & b)       \n",
    "print(\"a | b:\", a | b)       \n",
    "print(\"a << 1:\", a << 1)     \n",
    "print(\"a >> 1:\", a >> 1)    "
   ]
  },
  {
   "cell_type": "markdown",
   "id": "0c79bb2a-870d-467f-aa7b-f09998d45599",
   "metadata": {},
   "source": [
    "Q5. Explain the concept of type casting in Python with examples\n",
    "\n",
    "    -Type casting means converting one data type into another.\n",
    "     Python provides built-in functions to convert between different data types like int, float, str, etc.\n",
    "\n",
    "    -There are two type of type casting\n",
    "\n",
    "     1. Implicit Type Casting (Python does it automatically).\n",
    "\n",
    "     2. Explicit Type Casting (we do it manually using functions)."
   ]
  },
  {
   "cell_type": "code",
   "execution_count": 49,
   "id": "f706707a-fdb7-46e4-ac04-1c42380638cc",
   "metadata": {},
   "outputs": [
    {
     "name": "stdout",
     "output_type": "stream",
     "text": [
      "7.0\n"
     ]
    }
   ],
   "source": [
    "# Implicit type casting\n",
    "a = 5        \n",
    "b = 2.0      \n",
    "\n",
    "result = a + b   \n",
    "print(result)    "
   ]
  },
  {
   "cell_type": "code",
   "execution_count": 52,
   "id": "c2554450-de89-4a60-b22b-75798d754f16",
   "metadata": {},
   "outputs": [
    {
     "name": "stdout",
     "output_type": "stream",
     "text": [
      "<class 'int'>\n",
      "<class 'float'>\n",
      "<class 'float'>\n"
     ]
    }
   ],
   "source": [
    "print (type(a))\n",
    "print (type(b))\n",
    "print (type(result))"
   ]
  },
  {
   "cell_type": "code",
   "execution_count": 53,
   "id": "4e89d133-eb33-485f-ac88-c12006b06cae",
   "metadata": {},
   "outputs": [
    {
     "name": "stdout",
     "output_type": "stream",
     "text": [
      "52\n",
      "42.5\n"
     ]
    }
   ],
   "source": [
    "# Explicit type casting\n",
    "num_str = \"42\"\n",
    "num_int = int(num_str)\n",
    "num_float = float(num_str)\n",
    "\n",
    "print(num_int + 10)     \n",
    "print(num_float + 0.5)  \n"
   ]
  },
  {
   "cell_type": "code",
   "execution_count": 56,
   "id": "8a640821-be71-497c-852b-d2c1d9b5e8b2",
   "metadata": {},
   "outputs": [
    {
     "name": "stdout",
     "output_type": "stream",
     "text": [
      "<class 'str'>\n",
      "<class 'int'>\n",
      "<class 'float'>\n"
     ]
    }
   ],
   "source": [
    "print(type(num_str))\n",
    "print(type(num_int))\n",
    "print(type(num_float))"
   ]
  },
  {
   "cell_type": "markdown",
   "id": "e81248a8-2252-48d9-b032-ce8b274ba41e",
   "metadata": {},
   "source": [
    "Q6. How do conditional statements work in Python? Illustrate with examples ?\n",
    "\n",
    "    -Conditional statements lets our program choose different paths based on whether a condition is True or False.\n",
    "\n",
    "      In Python, the main conditional keywords are:\n",
    "\n",
    "       if\n",
    "\n",
    "       elif (else if)\n",
    "\n",
    "       else"
   ]
  },
  {
   "cell_type": "code",
   "execution_count": 57,
   "id": "92075b23-578e-461d-8656-efe03fa86a89",
   "metadata": {},
   "outputs": [
    {
     "name": "stdout",
     "output_type": "stream",
     "text": [
      "Grade: B\n"
     ]
    }
   ],
   "source": [
    "#Example for conditional statement\n",
    "\n",
    "marks = 75\n",
    "\n",
    "if marks >= 90:\n",
    "    print(\"Grade: A\")\n",
    "elif marks >= 70:\n",
    "    print(\"Grade: B\")\n",
    "elif marks >= 50:\n",
    "    print(\"Grade: C\")\n",
    "else:\n",
    "    print(\"Grade: F\")"
   ]
  },
  {
   "cell_type": "markdown",
   "id": "9fac08ff-444c-4857-bf65-e6748c46e2f3",
   "metadata": {},
   "source": [
    "Q7. Describe the different types of loops in Python and their use cases with examples.\n",
    "\n",
    "    -Python has two main types of loops:\n",
    "\n",
    "     1. for loop: for Loop Used when we want to iterate over a sequence (like a list, tuple, string, or range.\n",
    "\n",
    "     2. while loop: while Loop Used when we want to run a block of code until a condition is no longer true.\n"
   ]
  },
  {
   "cell_type": "code",
   "execution_count": 64,
   "id": "704d3aca-8dc4-49e4-8f41-67d3391921d4",
   "metadata": {},
   "outputs": [
    {
     "name": "stdout",
     "output_type": "stream",
     "text": [
      "jai shri ram 1\n",
      "jai shri ram 2\n",
      "jai shri ram 3\n",
      "jai shri ram 4\n",
      "jai shri ram 5\n"
     ]
    }
   ],
   "source": [
    "#Example for loop\n",
    "for i in range(1, 6):\n",
    "    print(\"jai shri ram\", i)"
   ]
  },
  {
   "cell_type": "code",
   "execution_count": 65,
   "id": "a2d3f644-1187-4d72-88ee-f396ef5af4a8",
   "metadata": {},
   "outputs": [
    {
     "name": "stdout",
     "output_type": "stream",
     "text": [
      "print me again 0\n",
      "print me again 1\n",
      "print me again 2\n",
      "print me again 3\n",
      "print me again 4\n",
      "print me again 5\n"
     ]
    }
   ],
   "source": [
    "#Exmaple while loop\n",
    "count = 0\n",
    "while count<=5:\n",
    "    print(\"print me again\", count)\n",
    "    count+=1"
   ]
  }
 ],
 "metadata": {
  "kernelspec": {
   "display_name": "Python 3 (ipykernel)",
   "language": "python",
   "name": "python3"
  },
  "language_info": {
   "codemirror_mode": {
    "name": "ipython",
    "version": 3
   },
   "file_extension": ".py",
   "mimetype": "text/x-python",
   "name": "python",
   "nbconvert_exporter": "python",
   "pygments_lexer": "ipython3",
   "version": "3.11.2"
  }
 },
 "nbformat": 4,
 "nbformat_minor": 5
}
